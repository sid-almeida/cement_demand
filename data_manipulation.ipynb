{
 "cells": [
  {
   "cell_type": "markdown",
   "source": [
    "**1. Import the necessary libraries**"
   ],
   "metadata": {
    "collapsed": false
   }
  },
  {
   "cell_type": "code",
   "execution_count": 90,
   "outputs": [],
   "source": [
    "import pandas as pd\n",
    "import numpy as np\n",
    "import datetime as dt"
   ],
   "metadata": {
    "collapsed": false,
    "ExecuteTime": {
     "end_time": "2023-07-07T18:24:28.394421200Z",
     "start_time": "2023-07-07T18:24:28.380399300Z"
    }
   }
  },
  {
   "cell_type": "markdown",
   "source": [
    "**2. Import the dataset from .csv.**"
   ],
   "metadata": {
    "collapsed": false
   }
  },
  {
   "cell_type": "code",
   "execution_count": 91,
   "outputs": [
    {
     "data": {
      "text/plain": "    Month  Production  Sales   demand  population       gdp  disbusment  \\\n0  Jan-10       347.0   322.0   346.0       122.4  182277.0    60314.00   \n1  Feb-10       306.0   285.0   338.0       122.5  181018.0    61213.92   \n2  Mar-10       236.0   245.0   276.0       122.6  179759.0    62113.83   \n3  Apr-10       234.0   212.0   245.0       122.8  178500.0    63013.75   \n4  May-10       296.0   289.0   312.0       122.9  177354.0    63913.67   \n5  Jun-10       224.0   212.0   215.0       123.1  176208.0    64813.58   \n6  Jul-10       184.0   174.0   181.0       123.2  175062.0    65713.50   \n7  Aug-10       193.0   200.0   216.0       123.3  177418.0    66613.42   \n8  Sep-10       169.0   152.0   178.0       123.5  179774.0    67513.33   \n9  Oct-10       200.0   214.0   215.0       123.6  182130.0    68413.25   \n\n   interestrate  Unnamed: 8  Unnamed: 9  Unnamed: 10  Unnamed: 11  \\\n0         10.25         NaN         NaN          NaN          NaN   \n1         10.33         NaN         NaN          NaN          NaN   \n2         10.42         NaN         NaN          NaN          NaN   \n3         10.50         NaN         NaN          NaN          NaN   \n4         10.58         NaN         NaN          NaN          NaN   \n5         10.67         NaN         NaN          NaN          NaN   \n6         10.75         NaN         NaN          NaN          NaN   \n7         10.83         NaN         NaN          NaN          NaN   \n8         10.92         NaN         NaN          NaN          NaN   \n9         11.00         NaN         NaN          NaN          NaN   \n\n   Unnamed: 12  Unnamed: 13  \n0          NaN          NaN  \n1          NaN          NaN  \n2          NaN          NaN  \n3          NaN          NaN  \n4          NaN          NaN  \n5          NaN          NaN  \n6          NaN          NaN  \n7          NaN          NaN  \n8          NaN          NaN  \n9          NaN          NaN  ",
      "text/html": "<div>\n<style scoped>\n    .dataframe tbody tr th:only-of-type {\n        vertical-align: middle;\n    }\n\n    .dataframe tbody tr th {\n        vertical-align: top;\n    }\n\n    .dataframe thead th {\n        text-align: right;\n    }\n</style>\n<table border=\"1\" class=\"dataframe\">\n  <thead>\n    <tr style=\"text-align: right;\">\n      <th></th>\n      <th>Month</th>\n      <th>Production</th>\n      <th>Sales</th>\n      <th>demand</th>\n      <th>population</th>\n      <th>gdp</th>\n      <th>disbusment</th>\n      <th>interestrate</th>\n      <th>Unnamed: 8</th>\n      <th>Unnamed: 9</th>\n      <th>Unnamed: 10</th>\n      <th>Unnamed: 11</th>\n      <th>Unnamed: 12</th>\n      <th>Unnamed: 13</th>\n    </tr>\n  </thead>\n  <tbody>\n    <tr>\n      <th>0</th>\n      <td>Jan-10</td>\n      <td>347.0</td>\n      <td>322.0</td>\n      <td>346.0</td>\n      <td>122.4</td>\n      <td>182277.0</td>\n      <td>60314.00</td>\n      <td>10.25</td>\n      <td>NaN</td>\n      <td>NaN</td>\n      <td>NaN</td>\n      <td>NaN</td>\n      <td>NaN</td>\n      <td>NaN</td>\n    </tr>\n    <tr>\n      <th>1</th>\n      <td>Feb-10</td>\n      <td>306.0</td>\n      <td>285.0</td>\n      <td>338.0</td>\n      <td>122.5</td>\n      <td>181018.0</td>\n      <td>61213.92</td>\n      <td>10.33</td>\n      <td>NaN</td>\n      <td>NaN</td>\n      <td>NaN</td>\n      <td>NaN</td>\n      <td>NaN</td>\n      <td>NaN</td>\n    </tr>\n    <tr>\n      <th>2</th>\n      <td>Mar-10</td>\n      <td>236.0</td>\n      <td>245.0</td>\n      <td>276.0</td>\n      <td>122.6</td>\n      <td>179759.0</td>\n      <td>62113.83</td>\n      <td>10.42</td>\n      <td>NaN</td>\n      <td>NaN</td>\n      <td>NaN</td>\n      <td>NaN</td>\n      <td>NaN</td>\n      <td>NaN</td>\n    </tr>\n    <tr>\n      <th>3</th>\n      <td>Apr-10</td>\n      <td>234.0</td>\n      <td>212.0</td>\n      <td>245.0</td>\n      <td>122.8</td>\n      <td>178500.0</td>\n      <td>63013.75</td>\n      <td>10.50</td>\n      <td>NaN</td>\n      <td>NaN</td>\n      <td>NaN</td>\n      <td>NaN</td>\n      <td>NaN</td>\n      <td>NaN</td>\n    </tr>\n    <tr>\n      <th>4</th>\n      <td>May-10</td>\n      <td>296.0</td>\n      <td>289.0</td>\n      <td>312.0</td>\n      <td>122.9</td>\n      <td>177354.0</td>\n      <td>63913.67</td>\n      <td>10.58</td>\n      <td>NaN</td>\n      <td>NaN</td>\n      <td>NaN</td>\n      <td>NaN</td>\n      <td>NaN</td>\n      <td>NaN</td>\n    </tr>\n    <tr>\n      <th>5</th>\n      <td>Jun-10</td>\n      <td>224.0</td>\n      <td>212.0</td>\n      <td>215.0</td>\n      <td>123.1</td>\n      <td>176208.0</td>\n      <td>64813.58</td>\n      <td>10.67</td>\n      <td>NaN</td>\n      <td>NaN</td>\n      <td>NaN</td>\n      <td>NaN</td>\n      <td>NaN</td>\n      <td>NaN</td>\n    </tr>\n    <tr>\n      <th>6</th>\n      <td>Jul-10</td>\n      <td>184.0</td>\n      <td>174.0</td>\n      <td>181.0</td>\n      <td>123.2</td>\n      <td>175062.0</td>\n      <td>65713.50</td>\n      <td>10.75</td>\n      <td>NaN</td>\n      <td>NaN</td>\n      <td>NaN</td>\n      <td>NaN</td>\n      <td>NaN</td>\n      <td>NaN</td>\n    </tr>\n    <tr>\n      <th>7</th>\n      <td>Aug-10</td>\n      <td>193.0</td>\n      <td>200.0</td>\n      <td>216.0</td>\n      <td>123.3</td>\n      <td>177418.0</td>\n      <td>66613.42</td>\n      <td>10.83</td>\n      <td>NaN</td>\n      <td>NaN</td>\n      <td>NaN</td>\n      <td>NaN</td>\n      <td>NaN</td>\n      <td>NaN</td>\n    </tr>\n    <tr>\n      <th>8</th>\n      <td>Sep-10</td>\n      <td>169.0</td>\n      <td>152.0</td>\n      <td>178.0</td>\n      <td>123.5</td>\n      <td>179774.0</td>\n      <td>67513.33</td>\n      <td>10.92</td>\n      <td>NaN</td>\n      <td>NaN</td>\n      <td>NaN</td>\n      <td>NaN</td>\n      <td>NaN</td>\n      <td>NaN</td>\n    </tr>\n    <tr>\n      <th>9</th>\n      <td>Oct-10</td>\n      <td>200.0</td>\n      <td>214.0</td>\n      <td>215.0</td>\n      <td>123.6</td>\n      <td>182130.0</td>\n      <td>68413.25</td>\n      <td>11.00</td>\n      <td>NaN</td>\n      <td>NaN</td>\n      <td>NaN</td>\n      <td>NaN</td>\n      <td>NaN</td>\n      <td>NaN</td>\n    </tr>\n  </tbody>\n</table>\n</div>"
     },
     "execution_count": 91,
     "metadata": {},
     "output_type": "execute_result"
    }
   ],
   "source": [
    "data = pd.read_csv('89cement data .csv')\n",
    "data.head(10)"
   ],
   "metadata": {
    "collapsed": false,
    "ExecuteTime": {
     "end_time": "2023-07-07T18:24:30.316156300Z",
     "start_time": "2023-07-07T18:24:30.276556800Z"
    }
   }
  },
  {
   "cell_type": "markdown",
   "source": [
    "**3. Drop the columns with null values.**"
   ],
   "metadata": {
    "collapsed": false
   }
  },
  {
   "cell_type": "code",
   "execution_count": 92,
   "outputs": [],
   "source": [
    "data = data.drop(['Unnamed: 8', 'Unnamed: 9', 'Unnamed: 10', 'Unnamed: 11', 'Unnamed: 12', 'Unnamed: 13'], axis=1)"
   ],
   "metadata": {
    "collapsed": false,
    "ExecuteTime": {
     "end_time": "2023-07-07T18:24:32.632711500Z",
     "start_time": "2023-07-07T18:24:32.620764Z"
    }
   }
  },
  {
   "cell_type": "markdown",
   "source": [
    "**4. Renamed the columns for better understanding.**"
   ],
   "metadata": {
    "collapsed": false
   }
  },
  {
   "cell_type": "code",
   "execution_count": 93,
   "outputs": [
    {
     "data": {
      "text/plain": "    month  production  sales   demand  population       gdp  disbursement  \\\n0  Jan-10       347.0   322.0   346.0       122.4  182277.0      60314.00   \n1  Feb-10       306.0   285.0   338.0       122.5  181018.0      61213.92   \n2  Mar-10       236.0   245.0   276.0       122.6  179759.0      62113.83   \n3  Apr-10       234.0   212.0   245.0       122.8  178500.0      63013.75   \n4  May-10       296.0   289.0   312.0       122.9  177354.0      63913.67   \n5  Jun-10       224.0   212.0   215.0       123.1  176208.0      64813.58   \n6  Jul-10       184.0   174.0   181.0       123.2  175062.0      65713.50   \n7  Aug-10       193.0   200.0   216.0       123.3  177418.0      66613.42   \n8  Sep-10       169.0   152.0   178.0       123.5  179774.0      67513.33   \n9  Oct-10       200.0   214.0   215.0       123.6  182130.0      68413.25   \n\n   interest_rate  \n0          10.25  \n1          10.33  \n2          10.42  \n3          10.50  \n4          10.58  \n5          10.67  \n6          10.75  \n7          10.83  \n8          10.92  \n9          11.00  ",
      "text/html": "<div>\n<style scoped>\n    .dataframe tbody tr th:only-of-type {\n        vertical-align: middle;\n    }\n\n    .dataframe tbody tr th {\n        vertical-align: top;\n    }\n\n    .dataframe thead th {\n        text-align: right;\n    }\n</style>\n<table border=\"1\" class=\"dataframe\">\n  <thead>\n    <tr style=\"text-align: right;\">\n      <th></th>\n      <th>month</th>\n      <th>production</th>\n      <th>sales</th>\n      <th>demand</th>\n      <th>population</th>\n      <th>gdp</th>\n      <th>disbursement</th>\n      <th>interest_rate</th>\n    </tr>\n  </thead>\n  <tbody>\n    <tr>\n      <th>0</th>\n      <td>Jan-10</td>\n      <td>347.0</td>\n      <td>322.0</td>\n      <td>346.0</td>\n      <td>122.4</td>\n      <td>182277.0</td>\n      <td>60314.00</td>\n      <td>10.25</td>\n    </tr>\n    <tr>\n      <th>1</th>\n      <td>Feb-10</td>\n      <td>306.0</td>\n      <td>285.0</td>\n      <td>338.0</td>\n      <td>122.5</td>\n      <td>181018.0</td>\n      <td>61213.92</td>\n      <td>10.33</td>\n    </tr>\n    <tr>\n      <th>2</th>\n      <td>Mar-10</td>\n      <td>236.0</td>\n      <td>245.0</td>\n      <td>276.0</td>\n      <td>122.6</td>\n      <td>179759.0</td>\n      <td>62113.83</td>\n      <td>10.42</td>\n    </tr>\n    <tr>\n      <th>3</th>\n      <td>Apr-10</td>\n      <td>234.0</td>\n      <td>212.0</td>\n      <td>245.0</td>\n      <td>122.8</td>\n      <td>178500.0</td>\n      <td>63013.75</td>\n      <td>10.50</td>\n    </tr>\n    <tr>\n      <th>4</th>\n      <td>May-10</td>\n      <td>296.0</td>\n      <td>289.0</td>\n      <td>312.0</td>\n      <td>122.9</td>\n      <td>177354.0</td>\n      <td>63913.67</td>\n      <td>10.58</td>\n    </tr>\n    <tr>\n      <th>5</th>\n      <td>Jun-10</td>\n      <td>224.0</td>\n      <td>212.0</td>\n      <td>215.0</td>\n      <td>123.1</td>\n      <td>176208.0</td>\n      <td>64813.58</td>\n      <td>10.67</td>\n    </tr>\n    <tr>\n      <th>6</th>\n      <td>Jul-10</td>\n      <td>184.0</td>\n      <td>174.0</td>\n      <td>181.0</td>\n      <td>123.2</td>\n      <td>175062.0</td>\n      <td>65713.50</td>\n      <td>10.75</td>\n    </tr>\n    <tr>\n      <th>7</th>\n      <td>Aug-10</td>\n      <td>193.0</td>\n      <td>200.0</td>\n      <td>216.0</td>\n      <td>123.3</td>\n      <td>177418.0</td>\n      <td>66613.42</td>\n      <td>10.83</td>\n    </tr>\n    <tr>\n      <th>8</th>\n      <td>Sep-10</td>\n      <td>169.0</td>\n      <td>152.0</td>\n      <td>178.0</td>\n      <td>123.5</td>\n      <td>179774.0</td>\n      <td>67513.33</td>\n      <td>10.92</td>\n    </tr>\n    <tr>\n      <th>9</th>\n      <td>Oct-10</td>\n      <td>200.0</td>\n      <td>214.0</td>\n      <td>215.0</td>\n      <td>123.6</td>\n      <td>182130.0</td>\n      <td>68413.25</td>\n      <td>11.00</td>\n    </tr>\n  </tbody>\n</table>\n</div>"
     },
     "execution_count": 93,
     "metadata": {},
     "output_type": "execute_result"
    }
   ],
   "source": [
    "data.columns = ['month', 'production', 'sales ', 'demand', 'population', 'gdp',\n",
    "       'disbursement', 'interest_rate']\n",
    "data.head(10)"
   ],
   "metadata": {
    "collapsed": false,
    "ExecuteTime": {
     "end_time": "2023-07-07T18:24:35.063859300Z",
     "start_time": "2023-07-07T18:24:35.045843400Z"
    }
   }
  },
  {
   "cell_type": "markdown",
   "source": [
    "**5. Check for null and duplicated values.**"
   ],
   "metadata": {
    "collapsed": false
   }
  },
  {
   "cell_type": "code",
   "execution_count": 94,
   "outputs": [
    {
     "name": "stdout",
     "output_type": "stream",
     "text": [
      "Number of duplicated values:  843\n",
      "Number of null values:  month            844\n",
      "production       844\n",
      "sales            844\n",
      "demand           844\n",
      "population       844\n",
      "gdp              844\n",
      "disbursement     844\n",
      "interest_rate    844\n",
      "dtype: int64\n"
     ]
    }
   ],
   "source": [
    "duplicated = data.duplicated().sum()\n",
    "print('Number of duplicated values: ', duplicated)\n",
    "null = data.isnull().sum()\n",
    "print('Number of null values: ', null)\n"
   ],
   "metadata": {
    "collapsed": false,
    "ExecuteTime": {
     "end_time": "2023-07-07T18:24:37.492576300Z",
     "start_time": "2023-07-07T18:24:37.485662300Z"
    }
   }
  },
  {
   "cell_type": "markdown",
   "source": [
    "**6. Removed the null values.**"
   ],
   "metadata": {
    "collapsed": false
   }
  },
  {
   "cell_type": "code",
   "execution_count": 95,
   "outputs": [
    {
     "name": "stdout",
     "output_type": "stream",
     "text": [
      "Number of null values:  month            0\n",
      "production       0\n",
      "sales            0\n",
      "demand           0\n",
      "population       0\n",
      "gdp              0\n",
      "disbursement     0\n",
      "interest_rate    0\n",
      "dtype: int64\n"
     ]
    }
   ],
   "source": [
    "data = data.dropna()\n",
    "null = data.isnull().sum()\n",
    "print('Number of null values: ', null)"
   ],
   "metadata": {
    "collapsed": false,
    "ExecuteTime": {
     "end_time": "2023-07-07T18:24:39.937134600Z",
     "start_time": "2023-07-07T18:24:39.892644300Z"
    }
   }
  },
  {
   "cell_type": "markdown",
   "source": [
    "**7. Checked for tail values.**"
   ],
   "metadata": {
    "collapsed": false
   }
  },
  {
   "cell_type": "code",
   "execution_count": 96,
   "outputs": [
    {
     "data": {
      "text/plain": "      month  production  sales   demand  population        gdp  disbursement  \\\n145  Feb-22       848.0   836.0   853.0       140.8  313161.38     217568.62   \n146  Mar-22       531.0   514.0   625.0       140.9  288039.68     219634.66   \n147  Apr-22       487.0   477.0   495.0       141.0  262917.98     221700.71   \n148  May-22       531.0   514.0   596.0       141.1  261644.65     223766.76   \n149  Jun-22       586.0   574.0   685.0       141.2  260371.32     225832.80   \n150  Jul-22       434.0   430.0   547.0       141.3  259097.99     227898.85   \n151  Aug-22       422.0   419.0   526.0       141.4  257824.66     229964.90   \n152  Sep-22       433.0   431.0   502.0       141.5  256551.33     232030.94   \n153  Oct-22       453.0   451.0   625.0       141.6  255278.00     234096.99   \n154  Nov-22       903.0   895.0   900.0       141.7  254004.67     236163.04   \n\n     interest_rate  \n145           8.14  \n146           8.18  \n147           8.23  \n148           8.27  \n149           8.31  \n150           8.35  \n151           8.39  \n152           8.43  \n153           8.48  \n154           8.60  ",
      "text/html": "<div>\n<style scoped>\n    .dataframe tbody tr th:only-of-type {\n        vertical-align: middle;\n    }\n\n    .dataframe tbody tr th {\n        vertical-align: top;\n    }\n\n    .dataframe thead th {\n        text-align: right;\n    }\n</style>\n<table border=\"1\" class=\"dataframe\">\n  <thead>\n    <tr style=\"text-align: right;\">\n      <th></th>\n      <th>month</th>\n      <th>production</th>\n      <th>sales</th>\n      <th>demand</th>\n      <th>population</th>\n      <th>gdp</th>\n      <th>disbursement</th>\n      <th>interest_rate</th>\n    </tr>\n  </thead>\n  <tbody>\n    <tr>\n      <th>145</th>\n      <td>Feb-22</td>\n      <td>848.0</td>\n      <td>836.0</td>\n      <td>853.0</td>\n      <td>140.8</td>\n      <td>313161.38</td>\n      <td>217568.62</td>\n      <td>8.14</td>\n    </tr>\n    <tr>\n      <th>146</th>\n      <td>Mar-22</td>\n      <td>531.0</td>\n      <td>514.0</td>\n      <td>625.0</td>\n      <td>140.9</td>\n      <td>288039.68</td>\n      <td>219634.66</td>\n      <td>8.18</td>\n    </tr>\n    <tr>\n      <th>147</th>\n      <td>Apr-22</td>\n      <td>487.0</td>\n      <td>477.0</td>\n      <td>495.0</td>\n      <td>141.0</td>\n      <td>262917.98</td>\n      <td>221700.71</td>\n      <td>8.23</td>\n    </tr>\n    <tr>\n      <th>148</th>\n      <td>May-22</td>\n      <td>531.0</td>\n      <td>514.0</td>\n      <td>596.0</td>\n      <td>141.1</td>\n      <td>261644.65</td>\n      <td>223766.76</td>\n      <td>8.27</td>\n    </tr>\n    <tr>\n      <th>149</th>\n      <td>Jun-22</td>\n      <td>586.0</td>\n      <td>574.0</td>\n      <td>685.0</td>\n      <td>141.2</td>\n      <td>260371.32</td>\n      <td>225832.80</td>\n      <td>8.31</td>\n    </tr>\n    <tr>\n      <th>150</th>\n      <td>Jul-22</td>\n      <td>434.0</td>\n      <td>430.0</td>\n      <td>547.0</td>\n      <td>141.3</td>\n      <td>259097.99</td>\n      <td>227898.85</td>\n      <td>8.35</td>\n    </tr>\n    <tr>\n      <th>151</th>\n      <td>Aug-22</td>\n      <td>422.0</td>\n      <td>419.0</td>\n      <td>526.0</td>\n      <td>141.4</td>\n      <td>257824.66</td>\n      <td>229964.90</td>\n      <td>8.39</td>\n    </tr>\n    <tr>\n      <th>152</th>\n      <td>Sep-22</td>\n      <td>433.0</td>\n      <td>431.0</td>\n      <td>502.0</td>\n      <td>141.5</td>\n      <td>256551.33</td>\n      <td>232030.94</td>\n      <td>8.43</td>\n    </tr>\n    <tr>\n      <th>153</th>\n      <td>Oct-22</td>\n      <td>453.0</td>\n      <td>451.0</td>\n      <td>625.0</td>\n      <td>141.6</td>\n      <td>255278.00</td>\n      <td>234096.99</td>\n      <td>8.48</td>\n    </tr>\n    <tr>\n      <th>154</th>\n      <td>Nov-22</td>\n      <td>903.0</td>\n      <td>895.0</td>\n      <td>900.0</td>\n      <td>141.7</td>\n      <td>254004.67</td>\n      <td>236163.04</td>\n      <td>8.60</td>\n    </tr>\n  </tbody>\n</table>\n</div>"
     },
     "execution_count": 96,
     "metadata": {},
     "output_type": "execute_result"
    }
   ],
   "source": [
    "data.tail(10)"
   ],
   "metadata": {
    "collapsed": false,
    "ExecuteTime": {
     "end_time": "2023-07-07T18:24:41.969329600Z",
     "start_time": "2023-07-07T18:24:41.942689500Z"
    }
   }
  },
  {
   "cell_type": "markdown",
   "source": [
    "**8. Checked for duplicated values in the month column.**"
   ],
   "metadata": {
    "collapsed": false
   }
  },
  {
   "cell_type": "code",
   "execution_count": 97,
   "outputs": [
    {
     "name": "stdout",
     "output_type": "stream",
     "text": [
      "Number of duplicated months:  0\n"
     ]
    }
   ],
   "source": [
    "duplicated_months = data.month.duplicated().sum()\n",
    "print('Number of duplicated months: ', duplicated_months)"
   ],
   "metadata": {
    "collapsed": false,
    "ExecuteTime": {
     "end_time": "2023-07-07T18:24:46.148150400Z",
     "start_time": "2023-07-07T18:24:46.142054800Z"
    }
   }
  },
  {
   "cell_type": "markdown",
   "source": [
    "**9. Devided the Month and Year values in two columns and replaced the month(string) in month for it's numeric value.**"
   ],
   "metadata": {
    "collapsed": false
   }
  },
  {
   "cell_type": "code",
   "execution_count": 98,
   "outputs": [],
   "source": [
    "data['months'] = data['month'].str.split('-').str[0]\n",
    "data['years'] = data['month'].str.split('-').str[1].astype(int)\n",
    "data = data.drop(['month'], axis=1)"
   ],
   "metadata": {
    "collapsed": false,
    "ExecuteTime": {
     "end_time": "2023-07-07T18:24:48.942558700Z",
     "start_time": "2023-07-07T18:24:48.932766300Z"
    }
   }
  },
  {
   "cell_type": "markdown",
   "source": [
    "**10. Replaced the month data with it's full name (Jan = January).**"
   ],
   "metadata": {
    "collapsed": false
   }
  },
  {
   "cell_type": "code",
   "execution_count": 99,
   "outputs": [
    {
     "data": {
      "text/plain": "   production  sales   demand  population       gdp  disbursement  \\\n0       347.0   322.0   346.0       122.4  182277.0      60314.00   \n1       306.0   285.0   338.0       122.5  181018.0      61213.92   \n2       236.0   245.0   276.0       122.6  179759.0      62113.83   \n3       234.0   212.0   245.0       122.8  178500.0      63013.75   \n4       296.0   289.0   312.0       122.9  177354.0      63913.67   \n5       224.0   212.0   215.0       123.1  176208.0      64813.58   \n6       184.0   174.0   181.0       123.2  175062.0      65713.50   \n7       193.0   200.0   216.0       123.3  177418.0      66613.42   \n8       169.0   152.0   178.0       123.5  179774.0      67513.33   \n9       200.0   214.0   215.0       123.6  182130.0      68413.25   \n\n   interest_rate     months  years  \n0          10.25    January     10  \n1          10.33   February     10  \n2          10.42      March     10  \n3          10.50      April     10  \n4          10.58        May     10  \n5          10.67       June     10  \n6          10.75       July     10  \n7          10.83     August     10  \n8          10.92  September     10  \n9          11.00    October     10  ",
      "text/html": "<div>\n<style scoped>\n    .dataframe tbody tr th:only-of-type {\n        vertical-align: middle;\n    }\n\n    .dataframe tbody tr th {\n        vertical-align: top;\n    }\n\n    .dataframe thead th {\n        text-align: right;\n    }\n</style>\n<table border=\"1\" class=\"dataframe\">\n  <thead>\n    <tr style=\"text-align: right;\">\n      <th></th>\n      <th>production</th>\n      <th>sales</th>\n      <th>demand</th>\n      <th>population</th>\n      <th>gdp</th>\n      <th>disbursement</th>\n      <th>interest_rate</th>\n      <th>months</th>\n      <th>years</th>\n    </tr>\n  </thead>\n  <tbody>\n    <tr>\n      <th>0</th>\n      <td>347.0</td>\n      <td>322.0</td>\n      <td>346.0</td>\n      <td>122.4</td>\n      <td>182277.0</td>\n      <td>60314.00</td>\n      <td>10.25</td>\n      <td>January</td>\n      <td>10</td>\n    </tr>\n    <tr>\n      <th>1</th>\n      <td>306.0</td>\n      <td>285.0</td>\n      <td>338.0</td>\n      <td>122.5</td>\n      <td>181018.0</td>\n      <td>61213.92</td>\n      <td>10.33</td>\n      <td>February</td>\n      <td>10</td>\n    </tr>\n    <tr>\n      <th>2</th>\n      <td>236.0</td>\n      <td>245.0</td>\n      <td>276.0</td>\n      <td>122.6</td>\n      <td>179759.0</td>\n      <td>62113.83</td>\n      <td>10.42</td>\n      <td>March</td>\n      <td>10</td>\n    </tr>\n    <tr>\n      <th>3</th>\n      <td>234.0</td>\n      <td>212.0</td>\n      <td>245.0</td>\n      <td>122.8</td>\n      <td>178500.0</td>\n      <td>63013.75</td>\n      <td>10.50</td>\n      <td>April</td>\n      <td>10</td>\n    </tr>\n    <tr>\n      <th>4</th>\n      <td>296.0</td>\n      <td>289.0</td>\n      <td>312.0</td>\n      <td>122.9</td>\n      <td>177354.0</td>\n      <td>63913.67</td>\n      <td>10.58</td>\n      <td>May</td>\n      <td>10</td>\n    </tr>\n    <tr>\n      <th>5</th>\n      <td>224.0</td>\n      <td>212.0</td>\n      <td>215.0</td>\n      <td>123.1</td>\n      <td>176208.0</td>\n      <td>64813.58</td>\n      <td>10.67</td>\n      <td>June</td>\n      <td>10</td>\n    </tr>\n    <tr>\n      <th>6</th>\n      <td>184.0</td>\n      <td>174.0</td>\n      <td>181.0</td>\n      <td>123.2</td>\n      <td>175062.0</td>\n      <td>65713.50</td>\n      <td>10.75</td>\n      <td>July</td>\n      <td>10</td>\n    </tr>\n    <tr>\n      <th>7</th>\n      <td>193.0</td>\n      <td>200.0</td>\n      <td>216.0</td>\n      <td>123.3</td>\n      <td>177418.0</td>\n      <td>66613.42</td>\n      <td>10.83</td>\n      <td>August</td>\n      <td>10</td>\n    </tr>\n    <tr>\n      <th>8</th>\n      <td>169.0</td>\n      <td>152.0</td>\n      <td>178.0</td>\n      <td>123.5</td>\n      <td>179774.0</td>\n      <td>67513.33</td>\n      <td>10.92</td>\n      <td>September</td>\n      <td>10</td>\n    </tr>\n    <tr>\n      <th>9</th>\n      <td>200.0</td>\n      <td>214.0</td>\n      <td>215.0</td>\n      <td>123.6</td>\n      <td>182130.0</td>\n      <td>68413.25</td>\n      <td>11.00</td>\n      <td>October</td>\n      <td>10</td>\n    </tr>\n  </tbody>\n</table>\n</div>"
     },
     "execution_count": 99,
     "metadata": {},
     "output_type": "execute_result"
    }
   ],
   "source": [
    "data['months'] = data['months'].replace(['Jan', 'Feb', 'Mar', 'Apr', 'May', 'Jun', 'Jul', 'Aug', 'Sep', 'Oct','Nov', 'Dec'], ['January', 'February', 'March', 'April', 'May', 'June', 'July', 'August', 'September', 'October','November', 'December'])\n",
    "data.head(10)"
   ],
   "metadata": {
    "collapsed": false,
    "ExecuteTime": {
     "end_time": "2023-07-07T18:24:54.083050400Z",
     "start_time": "2023-07-07T18:24:54.052678300Z"
    }
   }
  },
  {
   "cell_type": "code",
   "execution_count": 100,
   "outputs": [
    {
     "data": {
      "text/plain": "     production  sales   demand  population        gdp  disbursement  \\\n145       848.0   836.0   853.0       140.8  313161.38     217568.62   \n146       531.0   514.0   625.0       140.9  288039.68     219634.66   \n147       487.0   477.0   495.0       141.0  262917.98     221700.71   \n148       531.0   514.0   596.0       141.1  261644.65     223766.76   \n149       586.0   574.0   685.0       141.2  260371.32     225832.80   \n150       434.0   430.0   547.0       141.3  259097.99     227898.85   \n151       422.0   419.0   526.0       141.4  257824.66     229964.90   \n152       433.0   431.0   502.0       141.5  256551.33     232030.94   \n153       453.0   451.0   625.0       141.6  255278.00     234096.99   \n154       903.0   895.0   900.0       141.7  254004.67     236163.04   \n\n     interest_rate     months  years  \n145           8.14   February     22  \n146           8.18      March     22  \n147           8.23      April     22  \n148           8.27        May     22  \n149           8.31       June     22  \n150           8.35       July     22  \n151           8.39     August     22  \n152           8.43  September     22  \n153           8.48    October     22  \n154           8.60   November     22  ",
      "text/html": "<div>\n<style scoped>\n    .dataframe tbody tr th:only-of-type {\n        vertical-align: middle;\n    }\n\n    .dataframe tbody tr th {\n        vertical-align: top;\n    }\n\n    .dataframe thead th {\n        text-align: right;\n    }\n</style>\n<table border=\"1\" class=\"dataframe\">\n  <thead>\n    <tr style=\"text-align: right;\">\n      <th></th>\n      <th>production</th>\n      <th>sales</th>\n      <th>demand</th>\n      <th>population</th>\n      <th>gdp</th>\n      <th>disbursement</th>\n      <th>interest_rate</th>\n      <th>months</th>\n      <th>years</th>\n    </tr>\n  </thead>\n  <tbody>\n    <tr>\n      <th>145</th>\n      <td>848.0</td>\n      <td>836.0</td>\n      <td>853.0</td>\n      <td>140.8</td>\n      <td>313161.38</td>\n      <td>217568.62</td>\n      <td>8.14</td>\n      <td>February</td>\n      <td>22</td>\n    </tr>\n    <tr>\n      <th>146</th>\n      <td>531.0</td>\n      <td>514.0</td>\n      <td>625.0</td>\n      <td>140.9</td>\n      <td>288039.68</td>\n      <td>219634.66</td>\n      <td>8.18</td>\n      <td>March</td>\n      <td>22</td>\n    </tr>\n    <tr>\n      <th>147</th>\n      <td>487.0</td>\n      <td>477.0</td>\n      <td>495.0</td>\n      <td>141.0</td>\n      <td>262917.98</td>\n      <td>221700.71</td>\n      <td>8.23</td>\n      <td>April</td>\n      <td>22</td>\n    </tr>\n    <tr>\n      <th>148</th>\n      <td>531.0</td>\n      <td>514.0</td>\n      <td>596.0</td>\n      <td>141.1</td>\n      <td>261644.65</td>\n      <td>223766.76</td>\n      <td>8.27</td>\n      <td>May</td>\n      <td>22</td>\n    </tr>\n    <tr>\n      <th>149</th>\n      <td>586.0</td>\n      <td>574.0</td>\n      <td>685.0</td>\n      <td>141.2</td>\n      <td>260371.32</td>\n      <td>225832.80</td>\n      <td>8.31</td>\n      <td>June</td>\n      <td>22</td>\n    </tr>\n    <tr>\n      <th>150</th>\n      <td>434.0</td>\n      <td>430.0</td>\n      <td>547.0</td>\n      <td>141.3</td>\n      <td>259097.99</td>\n      <td>227898.85</td>\n      <td>8.35</td>\n      <td>July</td>\n      <td>22</td>\n    </tr>\n    <tr>\n      <th>151</th>\n      <td>422.0</td>\n      <td>419.0</td>\n      <td>526.0</td>\n      <td>141.4</td>\n      <td>257824.66</td>\n      <td>229964.90</td>\n      <td>8.39</td>\n      <td>August</td>\n      <td>22</td>\n    </tr>\n    <tr>\n      <th>152</th>\n      <td>433.0</td>\n      <td>431.0</td>\n      <td>502.0</td>\n      <td>141.5</td>\n      <td>256551.33</td>\n      <td>232030.94</td>\n      <td>8.43</td>\n      <td>September</td>\n      <td>22</td>\n    </tr>\n    <tr>\n      <th>153</th>\n      <td>453.0</td>\n      <td>451.0</td>\n      <td>625.0</td>\n      <td>141.6</td>\n      <td>255278.00</td>\n      <td>234096.99</td>\n      <td>8.48</td>\n      <td>October</td>\n      <td>22</td>\n    </tr>\n    <tr>\n      <th>154</th>\n      <td>903.0</td>\n      <td>895.0</td>\n      <td>900.0</td>\n      <td>141.7</td>\n      <td>254004.67</td>\n      <td>236163.04</td>\n      <td>8.60</td>\n      <td>November</td>\n      <td>22</td>\n    </tr>\n  </tbody>\n</table>\n</div>"
     },
     "execution_count": 100,
     "metadata": {},
     "output_type": "execute_result"
    }
   ],
   "source": [
    "data.tail(10)"
   ],
   "metadata": {
    "collapsed": false,
    "ExecuteTime": {
     "end_time": "2023-07-07T18:24:56.938309900Z",
     "start_time": "2023-07-07T18:24:56.921943800Z"
    }
   }
  },
  {
   "cell_type": "markdown",
   "source": [
    "**11. Summed up the year values + 2000 to get the full year.**"
   ],
   "metadata": {
    "collapsed": false
   }
  },
  {
   "cell_type": "code",
   "execution_count": 86,
   "outputs": [
    {
     "data": {
      "text/plain": "   production  sales   demand  population       gdp  disbursement  \\\n0       347.0   322.0   346.0       122.4  182277.0      60314.00   \n1       306.0   285.0   338.0       122.5  181018.0      61213.92   \n2       236.0   245.0   276.0       122.6  179759.0      62113.83   \n3       234.0   212.0   245.0       122.8  178500.0      63013.75   \n4       296.0   289.0   312.0       122.9  177354.0      63913.67   \n5       224.0   212.0   215.0       123.1  176208.0      64813.58   \n6       184.0   174.0   181.0       123.2  175062.0      65713.50   \n7       193.0   200.0   216.0       123.3  177418.0      66613.42   \n8       169.0   152.0   178.0       123.5  179774.0      67513.33   \n9       200.0   214.0   215.0       123.6  182130.0      68413.25   \n\n   interest_rate     months  years  \n0          10.25    January   2010  \n1          10.33   February   2010  \n2          10.42      March   2010  \n3          10.50      April   2010  \n4          10.58        May   2010  \n5          10.67       June   2010  \n6          10.75       July   2010  \n7          10.83     August   2010  \n8          10.92  September   2010  \n9          11.00    October   2010  ",
      "text/html": "<div>\n<style scoped>\n    .dataframe tbody tr th:only-of-type {\n        vertical-align: middle;\n    }\n\n    .dataframe tbody tr th {\n        vertical-align: top;\n    }\n\n    .dataframe thead th {\n        text-align: right;\n    }\n</style>\n<table border=\"1\" class=\"dataframe\">\n  <thead>\n    <tr style=\"text-align: right;\">\n      <th></th>\n      <th>production</th>\n      <th>sales</th>\n      <th>demand</th>\n      <th>population</th>\n      <th>gdp</th>\n      <th>disbursement</th>\n      <th>interest_rate</th>\n      <th>months</th>\n      <th>years</th>\n    </tr>\n  </thead>\n  <tbody>\n    <tr>\n      <th>0</th>\n      <td>347.0</td>\n      <td>322.0</td>\n      <td>346.0</td>\n      <td>122.4</td>\n      <td>182277.0</td>\n      <td>60314.00</td>\n      <td>10.25</td>\n      <td>January</td>\n      <td>2010</td>\n    </tr>\n    <tr>\n      <th>1</th>\n      <td>306.0</td>\n      <td>285.0</td>\n      <td>338.0</td>\n      <td>122.5</td>\n      <td>181018.0</td>\n      <td>61213.92</td>\n      <td>10.33</td>\n      <td>February</td>\n      <td>2010</td>\n    </tr>\n    <tr>\n      <th>2</th>\n      <td>236.0</td>\n      <td>245.0</td>\n      <td>276.0</td>\n      <td>122.6</td>\n      <td>179759.0</td>\n      <td>62113.83</td>\n      <td>10.42</td>\n      <td>March</td>\n      <td>2010</td>\n    </tr>\n    <tr>\n      <th>3</th>\n      <td>234.0</td>\n      <td>212.0</td>\n      <td>245.0</td>\n      <td>122.8</td>\n      <td>178500.0</td>\n      <td>63013.75</td>\n      <td>10.50</td>\n      <td>April</td>\n      <td>2010</td>\n    </tr>\n    <tr>\n      <th>4</th>\n      <td>296.0</td>\n      <td>289.0</td>\n      <td>312.0</td>\n      <td>122.9</td>\n      <td>177354.0</td>\n      <td>63913.67</td>\n      <td>10.58</td>\n      <td>May</td>\n      <td>2010</td>\n    </tr>\n    <tr>\n      <th>5</th>\n      <td>224.0</td>\n      <td>212.0</td>\n      <td>215.0</td>\n      <td>123.1</td>\n      <td>176208.0</td>\n      <td>64813.58</td>\n      <td>10.67</td>\n      <td>June</td>\n      <td>2010</td>\n    </tr>\n    <tr>\n      <th>6</th>\n      <td>184.0</td>\n      <td>174.0</td>\n      <td>181.0</td>\n      <td>123.2</td>\n      <td>175062.0</td>\n      <td>65713.50</td>\n      <td>10.75</td>\n      <td>July</td>\n      <td>2010</td>\n    </tr>\n    <tr>\n      <th>7</th>\n      <td>193.0</td>\n      <td>200.0</td>\n      <td>216.0</td>\n      <td>123.3</td>\n      <td>177418.0</td>\n      <td>66613.42</td>\n      <td>10.83</td>\n      <td>August</td>\n      <td>2010</td>\n    </tr>\n    <tr>\n      <th>8</th>\n      <td>169.0</td>\n      <td>152.0</td>\n      <td>178.0</td>\n      <td>123.5</td>\n      <td>179774.0</td>\n      <td>67513.33</td>\n      <td>10.92</td>\n      <td>September</td>\n      <td>2010</td>\n    </tr>\n    <tr>\n      <th>9</th>\n      <td>200.0</td>\n      <td>214.0</td>\n      <td>215.0</td>\n      <td>123.6</td>\n      <td>182130.0</td>\n      <td>68413.25</td>\n      <td>11.00</td>\n      <td>October</td>\n      <td>2010</td>\n    </tr>\n  </tbody>\n</table>\n</div>"
     },
     "execution_count": 86,
     "metadata": {},
     "output_type": "execute_result"
    }
   ],
   "source": [
    "data['years'] = data['years'] + 2000\n",
    "data.head(10)"
   ],
   "metadata": {
    "collapsed": false,
    "ExecuteTime": {
     "end_time": "2023-07-07T17:22:49.294093300Z",
     "start_time": "2023-07-07T17:22:49.215326600Z"
    }
   }
  },
  {
   "cell_type": "markdown",
   "source": [
    "**12. Joined the month and year columns to get the full date and converted to datetime format = \"%Y-%m\".**"
   ],
   "metadata": {
    "collapsed": false
   }
  },
  {
   "cell_type": "code",
   "execution_count": 87,
   "outputs": [
    {
     "data": {
      "text/plain": "   production  sales   demand  population       gdp  disbursement  \\\n0       347.0   322.0   346.0       122.4  182277.0      60314.00   \n1       306.0   285.0   338.0       122.5  181018.0      61213.92   \n2       236.0   245.0   276.0       122.6  179759.0      62113.83   \n3       234.0   212.0   245.0       122.8  178500.0      63013.75   \n4       296.0   289.0   312.0       122.9  177354.0      63913.67   \n5       224.0   212.0   215.0       123.1  176208.0      64813.58   \n6       184.0   174.0   181.0       123.2  175062.0      65713.50   \n7       193.0   200.0   216.0       123.3  177418.0      66613.42   \n8       169.0   152.0   178.0       123.5  179774.0      67513.33   \n9       200.0   214.0   215.0       123.6  182130.0      68413.25   \n\n   interest_rate       date  \n0          10.25 2010-01-01  \n1          10.33 2010-02-01  \n2          10.42 2010-03-01  \n3          10.50 2010-04-01  \n4          10.58 2010-05-01  \n5          10.67 2010-06-01  \n6          10.75 2010-07-01  \n7          10.83 2010-08-01  \n8          10.92 2010-09-01  \n9          11.00 2010-10-01  ",
      "text/html": "<div>\n<style scoped>\n    .dataframe tbody tr th:only-of-type {\n        vertical-align: middle;\n    }\n\n    .dataframe tbody tr th {\n        vertical-align: top;\n    }\n\n    .dataframe thead th {\n        text-align: right;\n    }\n</style>\n<table border=\"1\" class=\"dataframe\">\n  <thead>\n    <tr style=\"text-align: right;\">\n      <th></th>\n      <th>production</th>\n      <th>sales</th>\n      <th>demand</th>\n      <th>population</th>\n      <th>gdp</th>\n      <th>disbursement</th>\n      <th>interest_rate</th>\n      <th>date</th>\n    </tr>\n  </thead>\n  <tbody>\n    <tr>\n      <th>0</th>\n      <td>347.0</td>\n      <td>322.0</td>\n      <td>346.0</td>\n      <td>122.4</td>\n      <td>182277.0</td>\n      <td>60314.00</td>\n      <td>10.25</td>\n      <td>2010-01-01</td>\n    </tr>\n    <tr>\n      <th>1</th>\n      <td>306.0</td>\n      <td>285.0</td>\n      <td>338.0</td>\n      <td>122.5</td>\n      <td>181018.0</td>\n      <td>61213.92</td>\n      <td>10.33</td>\n      <td>2010-02-01</td>\n    </tr>\n    <tr>\n      <th>2</th>\n      <td>236.0</td>\n      <td>245.0</td>\n      <td>276.0</td>\n      <td>122.6</td>\n      <td>179759.0</td>\n      <td>62113.83</td>\n      <td>10.42</td>\n      <td>2010-03-01</td>\n    </tr>\n    <tr>\n      <th>3</th>\n      <td>234.0</td>\n      <td>212.0</td>\n      <td>245.0</td>\n      <td>122.8</td>\n      <td>178500.0</td>\n      <td>63013.75</td>\n      <td>10.50</td>\n      <td>2010-04-01</td>\n    </tr>\n    <tr>\n      <th>4</th>\n      <td>296.0</td>\n      <td>289.0</td>\n      <td>312.0</td>\n      <td>122.9</td>\n      <td>177354.0</td>\n      <td>63913.67</td>\n      <td>10.58</td>\n      <td>2010-05-01</td>\n    </tr>\n    <tr>\n      <th>5</th>\n      <td>224.0</td>\n      <td>212.0</td>\n      <td>215.0</td>\n      <td>123.1</td>\n      <td>176208.0</td>\n      <td>64813.58</td>\n      <td>10.67</td>\n      <td>2010-06-01</td>\n    </tr>\n    <tr>\n      <th>6</th>\n      <td>184.0</td>\n      <td>174.0</td>\n      <td>181.0</td>\n      <td>123.2</td>\n      <td>175062.0</td>\n      <td>65713.50</td>\n      <td>10.75</td>\n      <td>2010-07-01</td>\n    </tr>\n    <tr>\n      <th>7</th>\n      <td>193.0</td>\n      <td>200.0</td>\n      <td>216.0</td>\n      <td>123.3</td>\n      <td>177418.0</td>\n      <td>66613.42</td>\n      <td>10.83</td>\n      <td>2010-08-01</td>\n    </tr>\n    <tr>\n      <th>8</th>\n      <td>169.0</td>\n      <td>152.0</td>\n      <td>178.0</td>\n      <td>123.5</td>\n      <td>179774.0</td>\n      <td>67513.33</td>\n      <td>10.92</td>\n      <td>2010-09-01</td>\n    </tr>\n    <tr>\n      <th>9</th>\n      <td>200.0</td>\n      <td>214.0</td>\n      <td>215.0</td>\n      <td>123.6</td>\n      <td>182130.0</td>\n      <td>68413.25</td>\n      <td>11.00</td>\n      <td>2010-10-01</td>\n    </tr>\n  </tbody>\n</table>\n</div>"
     },
     "execution_count": 87,
     "metadata": {},
     "output_type": "execute_result"
    }
   ],
   "source": [
    "data['date'] = data['months'] + '-' + data['years'].astype(str)\n",
    "data['date'] = pd.to_datetime(data['date'], format=\"%B-%Y\")\n",
    "data = data.drop(['months', 'years'], axis=1)\n",
    "data.head(10)"
   ],
   "metadata": {
    "collapsed": false,
    "ExecuteTime": {
     "end_time": "2023-07-07T17:22:49.294093300Z",
     "start_time": "2023-07-07T17:22:49.230225200Z"
    }
   }
  },
  {
   "cell_type": "markdown",
   "source": [
    "**13. Verified the data types.**"
   ],
   "metadata": {
    "collapsed": false
   }
  },
  {
   "cell_type": "code",
   "execution_count": 88,
   "outputs": [
    {
     "data": {
      "text/plain": "production              float64\nsales                   float64\ndemand                  float64\npopulation              float64\ngdp                     float64\ndisbursement            float64\ninterest_rate           float64\ndate             datetime64[ns]\ndtype: object"
     },
     "execution_count": 88,
     "metadata": {},
     "output_type": "execute_result"
    }
   ],
   "source": [
    "data.dtypes"
   ],
   "metadata": {
    "collapsed": false,
    "ExecuteTime": {
     "end_time": "2023-07-07T17:22:49.294093300Z",
     "start_time": "2023-07-07T17:22:49.249303300Z"
    }
   }
  },
  {
   "cell_type": "markdown",
   "source": [
    "**14. Exported the data to explore.csv.**"
   ],
   "metadata": {
    "collapsed": false
   }
  },
  {
   "cell_type": "code",
   "execution_count": 89,
   "outputs": [],
   "source": [
    "data.to_csv('explore.csv')"
   ],
   "metadata": {
    "collapsed": false,
    "ExecuteTime": {
     "end_time": "2023-07-07T17:22:49.294093300Z",
     "start_time": "2023-07-07T17:22:49.255956500Z"
    }
   }
  }
 ],
 "metadata": {
  "kernelspec": {
   "display_name": "Python 3",
   "language": "python",
   "name": "python3"
  },
  "language_info": {
   "codemirror_mode": {
    "name": "ipython",
    "version": 2
   },
   "file_extension": ".py",
   "mimetype": "text/x-python",
   "name": "python",
   "nbconvert_exporter": "python",
   "pygments_lexer": "ipython2",
   "version": "2.7.6"
  }
 },
 "nbformat": 4,
 "nbformat_minor": 0
}
